{
 "cells": [
  {
   "cell_type": "markdown",
   "id": "19df7b04",
   "metadata": {},
   "source": [
    "1. Write function pow() that calculates the power, which takes base and exponent as\n",
    "arguments."
   ]
  },
  {
   "cell_type": "code",
   "execution_count": 2,
   "id": "eb2935d1",
   "metadata": {},
   "outputs": [
    {
     "name": "stdout",
     "output_type": "stream",
     "text": [
      "9\n"
     ]
    }
   ],
   "source": [
    "def pow(x,y):\n",
    "    return x**y\n",
    "print(pow(3,2))"
   ]
  },
  {
   "cell_type": "markdown",
   "id": "fe065e77",
   "metadata": {},
   "source": [
    "2. Write function area() that calculates the area of the shape."
   ]
  },
  {
   "cell_type": "code",
   "execution_count": 10,
   "id": "13bba607",
   "metadata": {},
   "outputs": [
    {
     "name": "stdout",
     "output_type": "stream",
     "text": [
      "1. Circle , 2. Rectangle , 3. Triangle , 4. Square\n",
      "4.0\n"
     ]
    }
   ],
   "source": [
    "def Circle():\n",
    "    r=float(input(\"enter redius of circle\"))\n",
    "    area1=3.14*(r**2)\n",
    "    return area1\n",
    "def Rectangle():\n",
    "    l=float(input(\"enter length of Rectangle\"))\n",
    "    w=float(input(\"enter width of Rectangle\"))\n",
    "    area2=l*w\n",
    "    return area2\n",
    "def Triangle():\n",
    "    b=float(input(\"enter base of  triangle\"))\n",
    "    h=float(input(\"enter height of triangle\"))\n",
    "    area3=0.5*b*h\n",
    "    return area3\n",
    "def Square():\n",
    "    l=float(input(\"enter  length of square\"))\n",
    "    area4=l**2\n",
    "    return area4\n",
    "def area():\n",
    "    print(\"1. Circle , 2. Rectangle , 3. Triangle , 4. Square\")\n",
    "    num_area=int(input())\n",
    "    if num_area==1:\n",
    "        return Circle()\n",
    "    elif num_area==2:\n",
    "        return Rectangle()\n",
    "    elif num_area==3:\n",
    "        return Triangle()\n",
    "    elif num_area==4:\n",
    "        return Square()    \n",
    "    else:\n",
    "        print(\"invalid input\")    \n",
    "\n",
    "print(area())"
   ]
  },
  {
   "cell_type": "markdown",
   "id": "9fa46f90",
   "metadata": {},
   "source": [
    "3. Write a program to find the sum of all numbers in a list."
   ]
  },
  {
   "cell_type": "code",
   "execution_count": 24,
   "id": "e6859ada",
   "metadata": {},
   "outputs": [
    {
     "name": "stdout",
     "output_type": "stream",
     "text": [
      "sum of list is 75\n"
     ]
    }
   ],
   "source": [
    "numbers = [5, 10, 15, 20, 25]\n",
    "total=0\n",
    "for num in numbers:\n",
    "    total+=num\n",
    "\n",
    "print(f\"sum of list is {total}\")\n",
    "\n"
   ]
  },
  {
   "cell_type": "markdown",
   "id": "a3654476",
   "metadata": {},
   "source": [
    "4. Write a program to concatenate two tuples then get the max and min element."
   ]
  },
  {
   "cell_type": "code",
   "execution_count": 25,
   "id": "9e21e396",
   "metadata": {},
   "outputs": [
    {
     "name": "stdout",
     "output_type": "stream",
     "text": [
      "(5, 10, 15, 20, 25, 2)\n",
      "Max 25\n",
      "Mini 2\n"
     ]
    }
   ],
   "source": [
    "def tuple():\n",
    "    tuple1 = (5, 10, 15)\n",
    "    tuple2 = (20, 25, 2)\n",
    "    concat = tuple1 + tuple2\n",
    "    print(concat)\n",
    "    maximum = max(concat)\n",
    "    minimum = min(concat)\n",
    "\n",
    "    print(f\"Max {maximum}\")\n",
    "    print(f\"Mini {minimum}\")\n",
    "tuple()\n"
   ]
  },
  {
   "cell_type": "markdown",
   "id": "e2d4e1dc",
   "metadata": {},
   "source": [
    "5. Write a function that takes tuple as argument and if length of tuple greater than 5,\n",
    "return the count of number elements. Note that the tuple may be with different data\n",
    "types."
   ]
  },
  {
   "cell_type": "code",
   "execution_count": 30,
   "id": "f261e0a8",
   "metadata": {},
   "outputs": [
    {
     "name": "stdout",
     "output_type": "stream",
     "text": [
      "lenght not greater than 5\n"
     ]
    }
   ],
   "source": [
    "def count_item(t):\n",
    "    if len(t)>5:\n",
    "        count=0\n",
    "        for i in t:\n",
    "            count+=1\n",
    "        return count\n",
    "    else:\n",
    "        return (\"lenght not greater than 5\")\n",
    "# t=(10, \"hello\", 3.14, 25, True, \"world\", 7)\n",
    "t=(10, \"hello\", 3.14) \n",
    "\n",
    "print(count_item(t))       "
   ]
  },
  {
   "cell_type": "markdown",
   "id": "c787da4a",
   "metadata": {},
   "source": [
    "6. Write a function which will be able to print a index of list element without using\n",
    "index function."
   ]
  },
  {
   "cell_type": "code",
   "execution_count": null,
   "id": "74db4e2f",
   "metadata": {},
   "outputs": [
    {
     "name": "stdout",
     "output_type": "stream",
     "text": [
      "found in 1 index\n"
     ]
    }
   ],
   "source": [
    "def check(l,e):\n",
    "   for i in range(len(l)):\n",
    "      if l[i]==e:\n",
    "         return (f\"found in {i} index\")\n",
    "   return(\"not found\")\n",
    "l=[1,2,3]\n",
    "e=int(input())  \n",
    "print(check(l,e))    "
   ]
  },
  {
   "cell_type": "markdown",
   "id": "3d0a4eec",
   "metadata": {},
   "source": [
    "7. Write a Python function that takes a number as a parameter and checks whether the\n",
    "number is prime or not."
   ]
  },
  {
   "cell_type": "code",
   "execution_count": 37,
   "id": "a2d4207d",
   "metadata": {},
   "outputs": [
    {
     "name": "stdout",
     "output_type": "stream",
     "text": [
      "num is odd\n"
     ]
    }
   ],
   "source": [
    "def even_odd(num):\n",
    "    if num%2==0:\n",
    "        return(\"num is even\")\n",
    "    else:\n",
    "        return(\"num is odd\")\n",
    "num =int(input(\"enter num\"))\n",
    "print(even_odd(num))    "
   ]
  },
  {
   "cell_type": "markdown",
   "id": "4e489818",
   "metadata": {},
   "source": [
    "8. Write a Python class Restaurant with attributes like menu_items, book_table, and\n",
    "customer_orders, and methods like add_item_to_menu, book_tables, and\n",
    "customer_order. (Note: Use dictionaries and lists to store the data.)\n",
    "Perform the following tasks now:\n",
    "• Now add items to the menu.\n",
    "• Make table reservations.\n",
    "• Take customer orders.\n",
    "• Print the menu.\n",
    "• Print table reservations.\n",
    "• Print customer orders."
   ]
  },
  {
   "cell_type": "code",
   "execution_count": 9,
   "id": "84b25006",
   "metadata": {},
   "outputs": [],
   "source": [
    "class Restaurant:\n",
    "    def __init__(self):\n",
    "        self.menu_items=[]\n",
    "        self.book_table=[]\n",
    "        self.customer_orders=[]\n",
    "    def add_item_to_menu(self,new_item):\n",
    "       if new_item in self.menu_items:\n",
    "         return(f\"{new_item} is in menu\")\n",
    "       else:\n",
    "         self.menu_items.append(new_item)\n",
    "         return(\"done\")\n",
    "    def book_tables(self,booked_table):\n",
    "        if booked_table in self.book_table:\n",
    "          return(f\"{booked_table} booked already\")\n",
    "        else:\n",
    "          self.book_table.append(booked_table)\n",
    "          return(\"done\") \n",
    "    def customer_order(self,c_table,order):\n",
    "          if c_table in self.book_table:\n",
    "            if order in self.menu_items:\n",
    "              self.customer_orders.append({\"customer_table\":c_table,\"order\":order})\n",
    "              return(f\"customer_table: {c_table}  order: {order}   is done\")\n",
    "            else:\n",
    "             return(\"can't take this order\")\n",
    "          else:\n",
    "             return(\"can't take this order\")\n",
    "    def get_menu(self):\n",
    "        return self.menu_items   \n",
    "    def get_booked_table(self):\n",
    "        return self.book_table\n",
    "    def get_order_history(self):\n",
    "        return self.customer_orders   \n",
    "       \n",
    "        \n",
    "        \n",
    "       \n",
    "     "
   ]
  },
  {
   "cell_type": "code",
   "execution_count": null,
   "id": "717c2a16",
   "metadata": {},
   "outputs": [
    {
     "name": "stdout",
     "output_type": "stream",
     "text": [
      "['pizza']\n",
      "[5, 3]\n",
      "[{'customer_table': 5, 'order': 'pizza'}]\n"
     ]
    }
   ],
   "source": [
    "res1=Restaurant()\n",
    "res1.add_item_to_menu(\"pizza\") \n",
    "res1.add_item_to_menu(\"pizza\")\n",
    "res1.book_tables(5)\n",
    "res1.book_tables(3)\n",
    "res1.book_tables(5)\n",
    "res1.customer_order(5,\"pizza\")\n",
    "res1.customer_order(5,\"rice\")\n",
    "res1.customer_order(4,\"pizza\")\n",
    "print(res1.get_menu())\n",
    "print(res1.get_booked_table())\n",
    "print(res1.get_order_history())  \n",
    "# print(res1.get_menu()) #[]\n",
    "# print(res1.get_booked_table()) #[]\n",
    "# print(res1.get_order_history())#[]\n",
    "# print(res1.add_item_to_menu(\"pizza\")) #done\n",
    "# print(res1.add_item_to_menu(\"pizza\")) #pizza is in menu\n",
    "# print(res1.book_tables(5))#done\n",
    "# print(res1.book_tables(3))#done\n",
    "# print(res1.book_tables(5)) #5 booked already\n",
    "# print(res1.customer_order(5,\"pizza\"))#customer_table: 5  order: pizza   is done\n",
    "# print(res1.customer_order(5,\"rice\"))  #can't take this order\n",
    "# print(res1.customer_order(4,\"pizza\")) #can't take this order\n",
    "# print(res1.get_menu())#['pizza']\n",
    "# print(res1.get_booked_table())#[5, 3]\n",
    "# print(res1.get_order_history())  #[{'customer_table': 5, 'order': 'pizza'}]"
   ]
  },
  {
   "cell_type": "markdown",
   "id": "183ab78f",
   "metadata": {},
   "source": [
    "9. A Bike Rental System Let us start writing the class Customer that is composed of the following\n",
    "attributes:\n",
    "• name\n",
    "• age\n",
    "Here are some of the methods that you need to add to your class Customer;\n",
    "• def __init__(self).\n",
    "• Getter / setter for all attributes.\n",
    "class MainBikeRental that is composed of the following attributes:\n",
    "• List of bikes\n",
    "• List of Rentals\n",
    "Here are some of the methods that you need to add to your class MainBikeRental;\n",
    "• def __init__(self).\n",
    "• Getter / setter for all attributes.\n",
    "\n",
    "• requestBike: Takes a request from the customer for the number of bikes and check if\n",
    "the requested number is available or not if yes, function will deduct number_of_bikes\n",
    "from shop stock else it will print wait 10 mins. And you have to make sure that the age\n",
    "of the customer is over than 6 years.\n",
    "• returnBike: Allows customers to return their bikes to the rental shop by taking\n",
    "rentalTime, num_of_bikes as parameters. And calculate the total bill cost by multiplying\n",
    "rentalTime * 40. Also, add the returned bikes to the stock store again\n",
    "• addBike: adds bikes into the list\n",
    "• totalCost: returns the total cost of bikes in the store\n",
    "class Bike that is composed of the following attributes:\n",
    "• name\n",
    "• price\n",
    "Here are some of the methods that you need to add to your class Bike;\n",
    "• def __init__(self).\n",
    "• Getter / setter for all attributes."
   ]
  },
  {
   "cell_type": "code",
   "execution_count": null,
   "id": "9e4d73b4",
   "metadata": {},
   "outputs": [],
   "source": [
    "class Customer:\n",
    "    def __init__(self,name,age):\n",
    "        self.__name=name\n",
    "        self.__age=age\n",
    "    def get_name(self):\n",
    "        return self.__name\n",
    "    def set_name(self,new_name):\n",
    "        self.__name=new_name  \n",
    "    def get_age(self):\n",
    "        return self.__age\n",
    "    def set_age(self,new_age):\n",
    "        self.__age=new_age\n",
    "class Bike:\n",
    "    def __init__(self,name_b,price):\n",
    "        self.__name_b=name_b\n",
    "        self.__price=price\n",
    "    def get_name_b(self):\n",
    "        return self.__name_b\n",
    "    def set_name_b(self,new_name_b):\n",
    "        self.__name_b=new_name_b  \n",
    "    def get_price(self):\n",
    "        return self.__price\n",
    "    def set_price(self,new_price):\n",
    "        self.__price=new_price\n",
    "class MainBikeRental :\n",
    "    def __init__(self):\n",
    "        self.bikes=[]\n",
    "        self.rentals=[]\n",
    "    def get_bikes(self):\n",
    "          return self.bikes\n",
    "    def set_bikes(self,new_bikes):\n",
    "          self.bikes=new_bikes  \n",
    "    def get_rentals(self):\n",
    "          return self.rentals\n",
    "    def set_rentals(self,new_rentals):\n",
    "          self.rentals=new_rentals\n",
    "    def requestBike(self,Customer,number_of_bikes):\n",
    "        if Customer.get_age()<=6 :\n",
    "            print(\"customer age must be greater than 6 years\")\n",
    "            return\n",
    "        if len(self.bikes)>=number_of_bikes:\n",
    "            accpet_b=self.bikes[:number_of_bikes]\n",
    "            self.bikes=self.bikes[number_of_bikes:]\n",
    "            self.rentals.append({\"customer\":Customer.get_name(),\"bikes\":accpet_b})\n",
    "            print(f\"{number_of_bikes} bikes rented to {Customer.get_name()}\")\n",
    "        else:\n",
    "            print(\"Please wait 10 minutes\")   \n",
    "    def returnBike(self,customer_name,rentalTime,num_of_bikes):\n",
    "          for rental in self.rentals:\n",
    "              if rental[\"customer\"] == customer_name :\n",
    "                 returned_bikes = rental['bikes'][:num_of_bikes]\n",
    "                 self.bikes.extend(returned_bikes)\n",
    "                 bill=40*rentalTime\n",
    "                 print(f\"{customer_name} returned {num_of_bikes} bikes, Total bill {bill}\")\n",
    "                 rental['bikes'] = rental['bikes'][num_of_bikes:]\n",
    "                 return\n",
    "          print(\"no rental record found\")\n",
    "    def addBike(self, bike):\n",
    "        self.bikes.append(bike)\n",
    "\n",
    "    def totalCost(self):\n",
    "        total = 0\n",
    "        for bike in self.bikes:\n",
    "            total += bike.get_price()\n",
    "        return total           \n",
    "\n",
    "                  \n",
    "                     \n",
    "        \n",
    "       "
   ]
  },
  {
   "cell_type": "code",
   "execution_count": null,
   "id": "5a339e9f",
   "metadata": {},
   "outputs": [
    {
     "name": "stdout",
     "output_type": "stream",
     "text": [
      "2 bikes rented to Ali\n",
      "Customer age must be greater than 6 years.\n",
      "Total cost of bikes in store 1300\n",
      "Ali returned 2 bikes, Total bill 120\n",
      "Total cost of bikes in store 2500\n",
      "Please wait 10 minutes\n"
     ]
    }
   ],
   "source": [
    "shop = MainBikeRental()\n",
    "\n",
    "\n",
    "shop.addBike(Bike(\"Mountain Bike\", 500))\n",
    "shop.addBike(Bike(\"Road Bike\", 700))\n",
    "shop.addBike(Bike(\"Electric Bike\", 1000))\n",
    "shop.addBike(Bike(\"Kids Bike\", 300))      \n",
    "# num of bikes in stor = 4 ,total cost =2500\n",
    "\n",
    "\n",
    "customer1 = Customer(\"Ali\", 20) # accept\n",
    "customer2 = Customer(\"Sara\", 5)  #not accept\n",
    "\n",
    "shop.requestBike(customer1, 2) \n",
    "shop.requestBike(customer2, 1) #not accept\n",
    "# num of bikes in stor = 2 ,total cost =1300\n",
    "print(f\"Total cost of bikes in store {shop.totalCost()}\") \n",
    "shop.returnBike(\"Ali\", rentalTime=3, num_of_bikes=2)\n",
    "# num of bikes in stor = 4 ,total cost =2500\n",
    "print(f\"Total cost of bikes in store {shop.totalCost()}\")\n",
    "shop.requestBike(customer1, 5)  #>num of bike in stor \n",
    "\n",
    "\n",
    "\n"
   ]
  }
 ],
 "metadata": {
  "kernelspec": {
   "display_name": "base",
   "language": "python",
   "name": "python3"
  },
  "language_info": {
   "codemirror_mode": {
    "name": "ipython",
    "version": 3
   },
   "file_extension": ".py",
   "mimetype": "text/x-python",
   "name": "python",
   "nbconvert_exporter": "python",
   "pygments_lexer": "ipython3",
   "version": "3.11.7"
  }
 },
 "nbformat": 4,
 "nbformat_minor": 5
}
